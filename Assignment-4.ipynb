{
 "cells": [
  {
   "cell_type": "markdown",
   "id": "8c8a9dd9-4888-4cf3-b3d0-889a8547e74b",
   "metadata": {},
   "source": [
    "# Q1. Create a python program to sort the given list of tuples based on integer value using a lambda function.\n",
    "* [('Sachin Tendulkar', 34357), ('Ricky Ponting', 27483), ('Jack Kallis', 25534), ('Virat Kohli', 24936)]"
   ]
  },
  {
   "cell_type": "code",
   "execution_count": 59,
   "id": "82959cff-4271-435e-bdb7-af2ef7d3388e",
   "metadata": {},
   "outputs": [
    {
     "data": {
      "text/plain": [
       "[('Virat Kohli', 24936),\n",
       " ('Jack Kallis', 25534),\n",
       " ('Ricky Ponting', 27483),\n",
       " ('Sachin Tendulkar', 34357)]"
      ]
     },
     "execution_count": 59,
     "metadata": {},
     "output_type": "execute_result"
    }
   ],
   "source": [
    "l=[('Sachin Tendulkar', 34357), ('Ricky Ponting', 27483), ('Jack Kallis', 25534), ('Virat Kohli', 24936)]\n",
    "l1=[]\n",
    "l2=[]\n",
    "for i in l:\n",
    "    l1.append(list(i))\n",
    "def scores(l2):\n",
    "    for j in l2:\n",
    "        a=j[0]\n",
    "        j[0]=j[1]\n",
    "        j[1]=a\n",
    "    return l2\n",
    "a=lambda x:x.sort()\n",
    "a(scores(l1))\n",
    "d=scores(l1)\n",
    "d\n",
    "for i in d:\n",
    "    l2.append(tuple(i))\n",
    "print()"
   ]
  },
  {
   "cell_type": "markdown",
   "id": "cbf638ac-25fd-48d4-a24c-898ac916d250",
   "metadata": {
    "jp-MarkdownHeadingCollapsed": true,
    "tags": []
   },
   "source": [
    "# Q2. Write a Python Program to find the squares of all the numbers in the given list of integers using lambda and map functions.\n",
    "*[1, 2, 3, 4, 5, 6, 7, 8, 9, 10]"
   ]
  },
  {
   "cell_type": "code",
   "execution_count": 10,
   "id": "e9383f54-b1cf-40e0-a0e6-873e3e8d7cdf",
   "metadata": {},
   "outputs": [],
   "source": [
    "l=[1, 2, 3, 4, 5, 6, 7, 8, 9, 10]\n",
    "a=list(map(lambda c:c**2,l))"
   ]
  },
  {
   "cell_type": "code",
   "execution_count": 11,
   "id": "57da5ab4-61ed-450c-bf47-17b6b92b4583",
   "metadata": {},
   "outputs": [
    {
     "data": {
      "text/plain": [
       "[1, 4, 9, 16, 25, 36, 49, 64, 81, 100]"
      ]
     },
     "execution_count": 11,
     "metadata": {},
     "output_type": "execute_result"
    }
   ],
   "source": [
    "a"
   ]
  },
  {
   "cell_type": "markdown",
   "id": "858885ed-2947-4dc5-815d-622ee17f9573",
   "metadata": {
    "jp-MarkdownHeadingCollapsed": true,
    "tags": []
   },
   "source": [
    "# Q3. Write a python program to convert the given list of integers into a tuple of strings. Use map and lambda functions\n",
    "* Given String: [1, 2, 3, 4, 5, 6, 7, 8, 9, 10]\n",
    "* Expected output: ('1', '2', '3', '4', '5', '6', '7', '8', '9', '10')"
   ]
  },
  {
   "cell_type": "code",
   "execution_count": 12,
   "id": "f10a09ae-dc2b-4d34-83bc-f86bdb9c2dc7",
   "metadata": {},
   "outputs": [],
   "source": [
    "l1=[1, 2, 3, 4, 5, 6, 7, 8, 9, 10]\n",
    "b=list(map(lambda x:str(x),l1))"
   ]
  },
  {
   "cell_type": "code",
   "execution_count": 13,
   "id": "2a9415b6-a672-4948-8e6d-54d2e46e89a7",
   "metadata": {},
   "outputs": [
    {
     "data": {
      "text/plain": [
       "['1', '2', '3', '4', '5', '6', '7', '8', '9', '10']"
      ]
     },
     "execution_count": 13,
     "metadata": {},
     "output_type": "execute_result"
    }
   ],
   "source": [
    "b"
   ]
  },
  {
   "cell_type": "markdown",
   "id": "ff59c1d6-d55e-488d-abc8-a960ddeb4610",
   "metadata": {
    "jp-MarkdownHeadingCollapsed": true,
    "tags": []
   },
   "source": [
    "# Q4. Write a python program using reduce function to compute the product of a list containing numbers from 1 to 25."
   ]
  },
  {
   "cell_type": "code",
   "execution_count": 24,
   "id": "65454c61-4f62-44f1-9f0e-5527225240ec",
   "metadata": {},
   "outputs": [
    {
     "data": {
      "text/plain": [
       "15511210043330985984000000"
      ]
     },
     "execution_count": 24,
     "metadata": {},
     "output_type": "execute_result"
    }
   ],
   "source": [
    "l3=[]\n",
    "for i in range (1,26):\n",
    "    l3.append(i)\n",
    "from functools import reduce\n",
    "c=reduce(lambda x,y:x*y,l3)\n",
    "c"
   ]
  },
  {
   "cell_type": "markdown",
   "id": "e1381e45-329e-4701-8efd-2ae4a33bcc14",
   "metadata": {
    "jp-MarkdownHeadingCollapsed": true,
    "tags": []
   },
   "source": [
    "# Q5. Write a python program to filter the numbers in a given list that are divisible by 2 and 3 using the filter function.\n",
    "* [2, 3, 6, 9, 27, 60, 90, 120, 55, 46]"
   ]
  },
  {
   "cell_type": "code",
   "execution_count": 35,
   "id": "6541b0b0-3527-4eeb-b72c-fd4f9f52bf9a",
   "metadata": {},
   "outputs": [
    {
     "data": {
      "text/plain": [
       "[6, 60, 90, 120]"
      ]
     },
     "execution_count": 35,
     "metadata": {},
     "output_type": "execute_result"
    }
   ],
   "source": [
    "l4=[2, 3, 6, 9, 27, 60, 90, 120, 55, 46]\n",
    "list(filter(lambda x: x%2==0 and  x%3==0,l4))"
   ]
  },
  {
   "cell_type": "markdown",
   "id": "20ca9f6f-8cc2-46a9-99a3-662c7207ee8f",
   "metadata": {},
   "source": [
    "# Q6. Write a python program to find palindromes in the given list of strings using lambda and filter function.\n",
    "* ['python', 'php', 'aba', 'radar', 'level']"
   ]
  },
  {
   "cell_type": "code",
   "execution_count": 39,
   "id": "ef274957-99bb-4853-a435-14c278a84af3",
   "metadata": {},
   "outputs": [
    {
     "name": "stdout",
     "output_type": "stream",
     "text": [
      "['php', 'aba', 'radar', 'level'] are pallendrome strings\n"
     ]
    }
   ],
   "source": [
    "l5=['python', 'php', 'aba', 'radar', 'level']\n",
    "print(f\"{list(filter(lambda x:x==x[::-1],l5))} are pallendrome strings\")"
   ]
  },
  {
   "cell_type": "code",
   "execution_count": null,
   "id": "7bfc1a56-e751-441d-9b60-f28fc55b9a98",
   "metadata": {},
   "outputs": [],
   "source": []
  }
 ],
 "metadata": {
  "kernelspec": {
   "display_name": "Python 3 (ipykernel)",
   "language": "python",
   "name": "python3"
  },
  "language_info": {
   "codemirror_mode": {
    "name": "ipython",
    "version": 3
   },
   "file_extension": ".py",
   "mimetype": "text/x-python",
   "name": "python",
   "nbconvert_exporter": "python",
   "pygments_lexer": "ipython3",
   "version": "3.10.8"
  }
 },
 "nbformat": 4,
 "nbformat_minor": 5
}
